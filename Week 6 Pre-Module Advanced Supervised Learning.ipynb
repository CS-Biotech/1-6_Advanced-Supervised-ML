{
 "cells": [
  {
   "cell_type": "markdown",
   "metadata": {
    "id": "SWkJhQbJDbmU"
   },
   "source": [
    "# Week 6 - Advanced Supervised Learning\n",
    "Last week, we learned about the basics of Machine Learning and the core idea of how ML algorithms learn from data (iterative improvement). We also introduced Logistic Regression as an ML model and taught ways to evaluate model performance. However, Logistic Regression has its limitations and while powerful, it often fails to capture patterns due to its simplicity, and many cases may need a more powerful approach. For that, we introduce a new model: The Decision Tree.\n",
    "\n",
    "\n",
    "In this module, you will learn about decision trees. By the end of this module, you will be able to:\n",
    "1. Explain the components and hyperparameters of a decision tree\n",
    "2. Explain underfitting and overfitting.\n",
    "3. Understand the use of validation datasets.\n",
    "4. Implement a program to tune the hyperparameters of a machine learning model to improve its predictive performance."
   ]
  },
  {
   "cell_type": "markdown",
   "metadata": {
    "id": "aDFQbk9OFKp_"
   },
   "source": [
    "## Introducing Decision Trees\n",
    "\n",
    "In Week 5 you learned about the basics of Machine Learning and connected it to Logistic Regression. In this week, we will cover a new model: **Decision Trees**.\n",
    "\n",
    "A Decision Tree is a popular supervised learning method that aims to make predictions through a series of decision or questions, creating a branching structure of decisions. Building a decision tree entails developing a set of questions for input data to answer.\n",
    "\n",
    "Decision Trees are commonly used for **classification** and **regression** tasks. A classification task predicts the value of a discrete, categorical variable, for example, determining if a patient has a particular disease given the results of complete blood count. In contrast, a regression task predicts the value of a continuous variable, such as predicting the concentration of a protein given the expression levels of a set of genes.\n",
    "\n",
    "\n",
    "Let's start with some definitions:\n",
    "- **Decision Nodes**: Each decision node looks at a feature and asks a true/false question regarding the value of the feature (commonly whether or not the feature is below a certain value). Depending on the answer to the question, we will choose a branch to follow. For example, we could ask if `age <= 0.25`. If this condition is met, we will go to the left branch, else we will go to the right branch. These are also called internal nodes. One special case of an internal node is the **root node** which is the topmost node of the tree where *all* points start at.\n",
    "- **Leaf Nodes**: Leaf nodes are the nodes of the tree where all samples reach after a series of decision nodes. Leaf nodes do not \"ask a question\" but rather assign a prediction to the sample. In classification tasks, this is the class of the sample (ex. true of false, type of gene, etc.). For regression tasks, this is a real value.\n",
    "- **Branch**: Branches connect all nodes together and each branch corresponds to the answer of the question of the node above (`True` or `False`).\n",
    "- **Node Depth**: The depth of a node is equal to the number of decisions it takes to reach that node + 1. For example, the depth of the root node is 1 as it is the first decision (0 + 1).\n",
    "- **Tree Depth**: The depth of the tree is equal to the depth of the deepest internal node.   \n"
   ]
  },
  {
   "cell_type": "markdown",
   "metadata": {
    "id": "N8W6g-JJFqIm"
   },
   "source": [
    "Here is a diagram of the structure of a decision tree with each component labelled:\n",
    "\n",
    "![elements of a decision tree](element_dtree.jpeg)"
   ]
  },
  {
   "cell_type": "markdown",
   "metadata": {
    "id": "9Q3I7Uw4FyNa"
   },
   "source": [
    "## Reading a Decision Tree\n",
    "\n",
    "Decision trees are a popular method in machine learning and data analysis and they are easy to understand and interpret, even for non-experts. Below, lets go through an exercise of reading a tree trained on the Pima Diabetes dataset.\n",
    "\n",
    "### Case Study: Predicting Diabetes Risk in Pima Indian Women\n",
    "\n",
    "As a reminder, the Pima Diabetes case study consists of a dataset with 768 records, with each instance containing eight attributes and a target variable. Each record represents one patient and includes the following attributes:\n",
    "\n",
    "* Pregnancies: Number of times the patient has been pregnant.\n",
    "* Glucose: Plasma glucose concentration over two hours in an oral glucose tolerance test.\n",
    "* Blood Pressure: Diastolic blood pressure (mm Hg).\n",
    "* Skin Thickness: Triceps skinfold thickness (mm).\n",
    "* Insulin: Two-hour serum insulin (mu U/ml).\n",
    "* BMI: Body mass index (weight in kg/(height in m)^2).\n",
    "* Diabetes Pedigree Function: A function that scores likelihood of diabetes based on family history.\n",
    "* Age: Patient's age (years).\n"
   ]
  },
  {
   "cell_type": "markdown",
   "metadata": {
    "id": "yd2OxgBZLinT"
   },
   "source": [
    "### Reading the Decision Tree"
   ]
  },
  {
   "cell_type": "markdown",
   "metadata": {
    "id": "z-YM1F_lGgxX"
   },
   "source": [
    "Using the dataset, we trained a decision tree that aims to predict whether or not a patient tested positive for diabetes and visualized it below:"
   ]
  },
  {
   "cell_type": "markdown",
   "metadata": {
    "id": "fUZDLFPjK8gs"
   },
   "source": [
    "![dtree](dtree_pima.png)"
   ]
  },
  {
   "cell_type": "markdown",
   "metadata": {
    "id": "3NFb_amYIpct"
   },
   "source": [
    "Each node in the diagram has 3-4 pieces of information:\n",
    "1. Decision Rule (not present in leaf nodes)\n",
    "2. Samples reaching the node\n",
    "3. Samples in each individual class\n",
    "4. Majority class of points reaching that node.\n",
    "\n",
    "Lets look at the root node as an example:\n",
    "\n",
    "\n"
   ]
  },
  {
   "cell_type": "markdown",
   "metadata": {
    "id": "ulDCrEaC6QnW"
   },
   "source": [
    "![rootnode](root_node.png)"
   ]
  },
  {
   "cell_type": "markdown",
   "metadata": {
    "id": "ZUCV_jaL6P7J"
   },
   "source": [
    "\n",
    "  - **`plas <= 127.5`**: The decision rule applied at this node. It splits the data based on whether a patient's plasma glucose concentration is less than or equal to 127.5. If yes, the patient follows the `True` branch; otherwise, it follows the `False` branch.\n",
    "  - **samples = 768**: The total number of samples that reached this node. With no splitting yet, there are 768 patients in the dataset.\n",
    "  - **value = [500,268]**: The distribution of these samples among the classes at this node. Among the 768 samples, 500 patients belong to the class `tested_negative` and 96 patients belong to the class `tested_positive`\n",
    "  - **class = `tested_negative`**: The majority class of all the samples that reached this node. If the node is a leaf node, then the majority class represents the predicted class for all the samples that reached the node."
   ]
  },
  {
   "cell_type": "markdown",
   "metadata": {
    "id": "4r8sBfI3J-RU"
   },
   "source": [
    "\n",
    "---\n",
    "\n",
    "##### **Q1: What is the depth of the tree?**\n",
    "\n",
    "*Your Answer Here*"
   ]
  },
  {
   "cell_type": "markdown",
   "metadata": {
    "id": "vwPoDDzXKCi4"
   },
   "source": [
    "---\n",
    "\n",
    "##### **Q2: How many leaves does the tree above have?**\n",
    "\n",
    "*Your Answer Here*"
   ]
  },
  {
   "cell_type": "markdown",
   "metadata": {
    "id": "VV5PLPt6KyyC"
   },
   "source": [
    "\n",
    "---\n",
    "\n",
    "##### **Q3: When will the tree predict that a patient does not have diabetes?**\n",
    "\n",
    "*Your Answer Here*"
   ]
  },
  {
   "cell_type": "markdown",
   "metadata": {
    "id": "vakaDBjSJ6iS"
   },
   "source": [
    "---\n",
    "\n",
    "##### **Q4: You are given a patient with the specified values for each of the dataset features below. Using this and the generated decision tree, classify the patient as either \"tested_positive\" or \"tested_negative\". Describe the path you took to get to the answer.**\n",
    "\n",
    "* preg: 1\n",
    "* plas: 148.0\n",
    "* pres: 72.0\n",
    "* insu: 0.0\n",
    "* mass: 33.6\n",
    "* pedi: 0.627\n",
    "* age: 50\n"
   ]
  },
  {
   "cell_type": "markdown",
   "metadata": {
    "id": "FCP9kdeeKClo"
   },
   "source": [
    "*Your Answer Here*\n",
    "\n",
    "---"
   ]
  },
  {
   "cell_type": "markdown",
   "metadata": {
    "id": "6lalqHdKXl-b"
   },
   "source": [
    "## Graded Question"
   ]
  },
  {
   "cell_type": "markdown",
   "metadata": {
    "id": "xQNBFFIFLG7F"
   },
   "source": [
    "\n",
    "##### **GQ1: In the training set, how many samples will be predicted to not have diabetes?**"
   ]
  },
  {
   "cell_type": "markdown",
   "metadata": {
    "id": "YS_piYNJLU9H"
   },
   "source": [
    "*Your Answer Here*\n",
    "\n",
    "---"
   ]
  }
 ],
 "metadata": {
  "colab": {
   "private_outputs": true,
   "provenance": []
  },
  "kernelspec": {
   "display_name": "Python 3",
   "name": "python3"
  },
  "language_info": {
   "name": "python",
   "version": "3.9.13"
  }
 },
 "nbformat": 4,
 "nbformat_minor": 0
}
